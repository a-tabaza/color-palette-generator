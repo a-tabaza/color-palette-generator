{
 "cells": [
  {
   "attachments": {},
   "cell_type": "markdown",
   "metadata": {},
   "source": [
    "API Used for Color Names: [THECOLORAPI, Josh Beckman](https://www.thecolorapi.com)"
   ]
  },
  {
   "cell_type": "code",
   "execution_count": 12,
   "metadata": {},
   "outputs": [],
   "source": [
    "import json\n",
    "import requests\n",
    "import pandas as pd"
   ]
  },
  {
   "cell_type": "code",
   "execution_count": 3,
   "metadata": {},
   "outputs": [],
   "source": [
    "hex_codes = ['#2e2036', '#60233d', '#9d293c', '#87356e', '#3a64b4', '#dd458e', '#9a6dc1', '#e9b7e5']"
   ]
  },
  {
   "cell_type": "code",
   "execution_count": 10,
   "metadata": {},
   "outputs": [
    {
     "name": "stdout",
     "output_type": "stream",
     "text": [
      "[('#2e2036', 'Bleached Cedar'), ('#60233d', 'Tawny Port'), ('#9d293c', 'Big Dip O Ruby'), ('#87356e', 'Plum'), ('#3a64b4', 'Lapis Lazuli'), ('#dd458e', 'Cerise'), ('#9a6dc1', 'Wisteria'), ('#e9b7e5', 'Orchid')]\n"
     ]
    }
   ],
   "source": [
    "names = []\n",
    "for code in hex_codes:\n",
    "    response = requests.get(f'https://www.thecolorapi.com/id?hex={code[1:]}')\n",
    "    todos = json.loads(response.text)\n",
    "    names.append(todos['name']['value'])    \n",
    "comb = zip(hex_codes,names)\n",
    "print(list(comb))"
   ]
  },
  {
   "cell_type": "code",
   "execution_count": 18,
   "metadata": {},
   "outputs": [
    {
     "name": "stdout",
     "output_type": "stream",
     "text": [
      "Bleached Cedar\n",
      "Tawny Port\n",
      "Big Dip O Ruby\n",
      "Plum\n",
      "Lapis Lazuli\n",
      "Cerise\n",
      "Wisteria\n",
      "Orchid\n"
     ]
    }
   ],
   "source": [
    "for name in names:\n",
    "    print(name)"
   ]
  },
  {
   "cell_type": "code",
   "execution_count": 15,
   "metadata": {},
   "outputs": [
    {
     "data": {
      "text/html": [
       "<div>\n",
       "<style scoped>\n",
       "    .dataframe tbody tr th:only-of-type {\n",
       "        vertical-align: middle;\n",
       "    }\n",
       "\n",
       "    .dataframe tbody tr th {\n",
       "        vertical-align: top;\n",
       "    }\n",
       "\n",
       "    .dataframe thead th {\n",
       "        text-align: right;\n",
       "    }\n",
       "</style>\n",
       "<table border=\"1\" class=\"dataframe\">\n",
       "  <thead>\n",
       "    <tr style=\"text-align: right;\">\n",
       "      <th></th>\n",
       "      <th>Hex</th>\n",
       "      <th>Name</th>\n",
       "    </tr>\n",
       "  </thead>\n",
       "  <tbody>\n",
       "    <tr>\n",
       "      <th>0</th>\n",
       "      <td>#2e2036</td>\n",
       "      <td>Bleached Cedar</td>\n",
       "    </tr>\n",
       "    <tr>\n",
       "      <th>1</th>\n",
       "      <td>#60233d</td>\n",
       "      <td>Tawny Port</td>\n",
       "    </tr>\n",
       "    <tr>\n",
       "      <th>2</th>\n",
       "      <td>#9d293c</td>\n",
       "      <td>Big Dip O Ruby</td>\n",
       "    </tr>\n",
       "    <tr>\n",
       "      <th>3</th>\n",
       "      <td>#87356e</td>\n",
       "      <td>Plum</td>\n",
       "    </tr>\n",
       "    <tr>\n",
       "      <th>4</th>\n",
       "      <td>#3a64b4</td>\n",
       "      <td>Lapis Lazuli</td>\n",
       "    </tr>\n",
       "    <tr>\n",
       "      <th>5</th>\n",
       "      <td>#dd458e</td>\n",
       "      <td>Cerise</td>\n",
       "    </tr>\n",
       "    <tr>\n",
       "      <th>6</th>\n",
       "      <td>#9a6dc1</td>\n",
       "      <td>Wisteria</td>\n",
       "    </tr>\n",
       "    <tr>\n",
       "      <th>7</th>\n",
       "      <td>#e9b7e5</td>\n",
       "      <td>Orchid</td>\n",
       "    </tr>\n",
       "  </tbody>\n",
       "</table>\n",
       "</div>"
      ],
      "text/plain": [
       "       Hex            Name\n",
       "0  #2e2036  Bleached Cedar\n",
       "1  #60233d      Tawny Port\n",
       "2  #9d293c  Big Dip O Ruby\n",
       "3  #87356e            Plum\n",
       "4  #3a64b4    Lapis Lazuli\n",
       "5  #dd458e          Cerise\n",
       "6  #9a6dc1        Wisteria\n",
       "7  #e9b7e5          Orchid"
      ]
     },
     "execution_count": 15,
     "metadata": {},
     "output_type": "execute_result"
    }
   ],
   "source": [
    "df = pd.DataFrame({'Hex':hex_codes,'Name':names})\n",
    "df"
   ]
  },
  {
   "cell_type": "code",
   "execution_count": 19,
   "metadata": {},
   "outputs": [
    {
     "data": {
      "text/plain": [
       "'[{\"Hex\": \"#2e2036\", \"Name\": \"Bleached Cedar\"}, {\"Hex\": \"#60233d\", \"Name\": \"Tawny Port\"}, {\"Hex\": \"#9d293c\", \"Name\": \"Big Dip O Ruby\"}, {\"Hex\": \"#87356e\", \"Name\": \"Plum\"}, {\"Hex\": \"#3a64b4\", \"Name\": \"Lapis Lazuli\"}, {\"Hex\": \"#dd458e\", \"Name\": \"Cerise\"}, {\"Hex\": \"#9a6dc1\", \"Name\": \"Wisteria\"}, {\"Hex\": \"#e9b7e5\", \"Name\": \"Orchid\"}]'"
      ]
     },
     "execution_count": 19,
     "metadata": {},
     "output_type": "execute_result"
    }
   ],
   "source": [
    "result = df.to_json(orient=\"records\")\n",
    "\n",
    "parsed = json.loads(result)\n",
    "json.dumps(parsed)"
   ]
  }
 ],
 "metadata": {
  "kernelspec": {
   "display_name": "Python 3",
   "language": "python",
   "name": "python3"
  },
  "language_info": {
   "codemirror_mode": {
    "name": "ipython",
    "version": 3
   },
   "file_extension": ".py",
   "mimetype": "text/x-python",
   "name": "python",
   "nbconvert_exporter": "python",
   "pygments_lexer": "ipython3",
   "version": "3.10.8"
  },
  "orig_nbformat": 4
 },
 "nbformat": 4,
 "nbformat_minor": 2
}
