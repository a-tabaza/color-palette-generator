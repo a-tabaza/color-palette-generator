{
 "cells": [
  {
   "cell_type": "code",
   "execution_count": 1,
   "metadata": {},
   "outputs": [],
   "source": [
    "import numpy as np\n",
    "import pandas as pd\n",
    "import requests\n",
    "from PIL import Image\n",
    "from sklearn.cluster import KMeans, MiniBatchKMeans"
   ]
  },
  {
   "cell_type": "code",
   "execution_count": 2,
   "metadata": {},
   "outputs": [],
   "source": [
    "path = r'./Chungking-Express-14.jpg'"
   ]
  },
  {
   "cell_type": "code",
   "execution_count": 3,
   "metadata": {},
   "outputs": [],
   "source": [
    "def online_image_loader(url):\n",
    "    \"\"\"\n",
    "    Load an image from a given URL.\n",
    "\n",
    "    Args:\n",
    "        url: A string representing the URL of the image to be loaded.\n",
    "\n",
    "    Returns:\n",
    "        An Image object representing the loaded image.\n",
    "\n",
    "    Raises:\n",
    "        Exception: If the image could not be loaded from the given URL.\n",
    "\n",
    "    Example:\n",
    "        >>> image = online_image_loader('https://example.com/image.jpg')\n",
    "    \"\"\"\n",
    "    response = requests.get(url, stream=True).raw\n",
    "    try:\n",
    "        image = Image.open(response)\n",
    "    except:\n",
    "        raise Exception('Image not found, try another URL')  \n",
    "    return image"
   ]
  },
  {
   "cell_type": "code",
   "execution_count": 4,
   "metadata": {},
   "outputs": [],
   "source": [
    "def local_image_loader(path):\n",
    "    \"\"\"\n",
    "    Load an image from a given file path.\n",
    "\n",
    "    Args:\n",
    "        path: A string representing the file path of the image to be loaded.\n",
    "\n",
    "    Returns:\n",
    "        An Image object representing the loaded image.\n",
    "\n",
    "    Raises:\n",
    "        Exception: If the image could not be loaded from the given file path.\n",
    "\n",
    "    Example:\n",
    "        >>> image = local_image_loader('/path/to/image.jpg')\n",
    "    \"\"\"\n",
    "    try:\n",
    "        image = Image.open(path)\n",
    "    except:\n",
    "        raise Exception('Image not found, try another path')\n",
    "    return image"
   ]
  },
  {
   "cell_type": "code",
   "execution_count": 5,
   "metadata": {},
   "outputs": [],
   "source": [
    "def flatten_image(image):\n",
    "    \"\"\"\n",
    "    Flatten an image into a pandas DataFrame.\n",
    "\n",
    "    Args:\n",
    "        image: An Image object representing the image to be flattened.\n",
    "\n",
    "    Returns:\n",
    "        A pandas DataFrame representing the flattened image. Each column in the\n",
    "        DataFrame represents a color channel of the image.\n",
    "\n",
    "    Example:\n",
    "        >>> image = Image.open('/path/to/image.jpg')\n",
    "        >>> flattened_image = flatten_image(image)\n",
    "    \"\"\"\n",
    "    df = pd.DataFrame(list(image.getdata()),columns=list(image.getbands()))\n",
    "    return df"
   ]
  },
  {
   "cell_type": "code",
   "execution_count": 6,
   "metadata": {},
   "outputs": [],
   "source": [
    "img_local = local_image_loader(path)\n",
    "# url = input('Enter image url: ')\n",
    "# img_online = online_image_loader(url)"
   ]
  },
  {
   "cell_type": "code",
   "execution_count": 7,
   "metadata": {},
   "outputs": [],
   "source": [
    "flat_local = flatten_image(img_local)\n",
    "# flat_online = flatten_image(img_online)"
   ]
  },
  {
   "cell_type": "code",
   "execution_count": 8,
   "metadata": {},
   "outputs": [],
   "source": [
    "class Clusterer():\n",
    "    \"\"\"\n",
    "    A class for clustering RGB color values using different clustering algorithms.\n",
    "\n",
    "    Attributes:\n",
    "        df: A pandas DataFrame containing the RGB values of each color to be clustered.\n",
    "        models: A dictionary storing the clustering models created by the class methods.\n",
    "\n",
    "    Methods:\n",
    "        KM: Create a KMeans clustering model and store it in the models dictionary.\n",
    "        MBKM: Create a MiniBatchKMeans clustering model and store it in the models dictionary.\n",
    "\n",
    "    Example:\n",
    "        >>> clusterer = Clusterer(df)\n",
    "        >>> km_model = clusterer.KM()\n",
    "        >>> mbkm_model = clusterer.MBKM()\n",
    "    \"\"\"\n",
    "    def __init__(self, df):\n",
    "        \"\"\"\n",
    "        Initialize a new Clusterer object.\n",
    "\n",
    "        Args:\n",
    "            df: A pandas DataFrame containing the RGB values of each color to be clustered.\n",
    "        \"\"\"\n",
    "        self.df = df\n",
    "        self.models = {}\n",
    "\n",
    "    def KM(self):\n",
    "        \"\"\"\n",
    "        Create a KMeans clustering model and store it in the models dictionary.\n",
    "\n",
    "        Returns:\n",
    "            The KMeans clustering model.\n",
    "\n",
    "        Example:\n",
    "            >>> km_model = clusterer.KM()\n",
    "        \"\"\"\n",
    "        self.models['KMeans'] = KMeans(n_clusters=8,n_init='auto').fit(self.df)\n",
    "        return self.models['KMeans']\n",
    "    \n",
    "    def MBKM(self):\n",
    "        \"\"\"\n",
    "        Create a MiniBatchKMeans clustering model and store it in the models dictionary.\n",
    "\n",
    "        Returns:\n",
    "            The MiniBatchKMeans clustering model.\n",
    "\n",
    "        Example:\n",
    "            >>> mbkm_model = clusterer.MBKM()\n",
    "        \"\"\"\n",
    "        self.models['MiniBatchKMeans'] = MiniBatchKMeans(n_clusters=8,n_init='auto').fit(self.df)\n",
    "        return self.models['MiniBatchKMeans']"
   ]
  },
  {
   "cell_type": "code",
   "execution_count": 29,
   "metadata": {},
   "outputs": [],
   "source": [
    "def generate_rgb_palette(model,norm=False):\n",
    "    \"\"\"\n",
    "    Generate a list of RGB color tuples based on the cluster centers of a given model.\n",
    "\n",
    "    Args:\n",
    "        model: A clustering model with a `cluster_centers_` attribute containing\n",
    "            the RGB values of the cluster centers. This should be a NumPy array\n",
    "            with shape (n_clusters, 3).\n",
    "        norm (bool): Whether to normalize the RGB values to the range [0, 1] by\n",
    "            dividing each value by 255. Default is False.\n",
    "\n",
    "    Returns:\n",
    "        A list of RGB color tuples. Each tuple has three integers between 0 and 255\n",
    "        representing the red, green, and blue components of the color.\n",
    "\n",
    "    Example:\n",
    "        >>> from sklearn.cluster import KMeans\n",
    "        >>> model = KMeans(n_clusters=5, random_state=0).fit(X)\n",
    "        >>> generate_rgb_palette(model)\n",
    "        [(255, 51, 0), (51, 153, 255), (255, 204, 0), (0, 102, 51), (255, 153, 204)]\n",
    "    \"\"\"\n",
    "    if norm:\n",
    "        palette = model.cluster_centers_ / 255.0\n",
    "    palette = model.cluster_centers_.round().astype(int)\n",
    "    palette_tuple = [tuple(p) for p in palette]\n",
    "    return palette_tuple\n",
    "\n",
    "def rgb_to_hex(rgb_value):\n",
    "    \"\"\"\n",
    "    Convert an RGB color tuple to its hexadecimal representation.\n",
    "\n",
    "    Args:\n",
    "        rgb_value (tuple): A tuple containing three integers between 0 and 255\n",
    "            representing the red, green, and blue components of a color.\n",
    "\n",
    "    Returns:\n",
    "        A string containing the hexadecimal representation of the color. The\n",
    "        string will start with a '#' character followed by six hexadecimal digits\n",
    "        representing the red, green, and blue components of the color.\n",
    "\n",
    "    Example:\n",
    "        >>> rgb_to_hex((255, 0, 0))\n",
    "        '#ff0000'\n",
    "        >>> rgb_to_hex((0, 128, 255))\n",
    "        '#0080ff'\n",
    "    \"\"\"\n",
    "    r, g, b = rgb_value[0], rgb_value[1], rgb_value[2]\n",
    "    return '#{:02x}{:02x}{:02x}'.format(r, g, b)\n",
    "\n",
    "def generate_hex_palette(model):\n",
    "    \"\"\"\n",
    "    Generate a list of hexadecimal color codes based on the cluster centers of a given model.\n",
    "\n",
    "    Args:\n",
    "        model: A clustering model with a `cluster_centers_` attribute containing\n",
    "            the RGB values of the cluster centers. This should be a NumPy array\n",
    "            with shape (n_clusters, 3).\n",
    "\n",
    "    Returns:\n",
    "        A list of hexadecimal color codes. Each code is a string representing a\n",
    "        6-digit hexadecimal number in the format \"#RRGGBB\", where RR, GG, and BB\n",
    "        are two-digit hexadecimal numbers representing the red, green, and blue\n",
    "        components of the color.\n",
    "\n",
    "    Example:\n",
    "        >>> from sklearn.cluster import KMeans\n",
    "        >>> model = KMeans(n_clusters=5, random_state=0).fit(X)\n",
    "        >>> generate_hex_palette(model)\n",
    "        ['#ff3300', '#3399ff', '#ffcc00', '#006633', '#ff99cc']\n",
    "    \"\"\"\n",
    "    palette = model.cluster_centers_.round().astype(int)\n",
    "    palette = [rgb_to_hex(p) for p in palette]\n",
    "    return palette\n",
    "\n",
    "def hex_to_rgb(hex_value):\n",
    "    \"\"\"\n",
    "    Convert a hexadecimal color code to an RGB color tuple.\n",
    "\n",
    "    Args:\n",
    "        hex_value: A string representing a 6-digit hexadecimal number in the\n",
    "            format \"#RRGGBB\", where RR, GG, and BB are two-digit hexadecimal\n",
    "            numbers representing the red, green, and blue components of the color.\n",
    "\n",
    "    Returns:\n",
    "        A tuple of three floats between 0 and 1 representing the red, green, and\n",
    "        blue components of the color.\n",
    "\n",
    "    Example:\n",
    "        >>> hex_to_rgb('#ff3300')\n",
    "        (1.0, 0.2, 0.0)\n",
    "    \"\"\"\n",
    "    h = hex_value.lstrip('#')\n",
    "    return tuple(int(h[i:i + 2], 16) / 255.0 for i in (0, 2, 4))"
   ]
  },
  {
   "cell_type": "code",
   "execution_count": 10,
   "metadata": {},
   "outputs": [],
   "source": [
    "model = Clusterer(flat_local).KM()"
   ]
  },
  {
   "cell_type": "code",
   "execution_count": 30,
   "metadata": {},
   "outputs": [],
   "source": [
    "rgb_palette = generate_rgb_palette(model)\n",
    "hex_palette = generate_hex_palette(model)"
   ]
  },
  {
   "cell_type": "code",
   "execution_count": 33,
   "metadata": {},
   "outputs": [
    {
     "name": "stdout",
     "output_type": "stream",
     "text": [
      "(21, 11, 5)\n",
      "(115, 38, 3)\n",
      "(97, 132, 2)\n",
      "(154, 52, 3)\n",
      "(203, 79, 4)\n",
      "(80, 26, 2)\n",
      "(66, 77, 1)\n",
      "(47, 23, 2)\n"
     ]
    }
   ],
   "source": [
    "for color in rgb_palette:\n",
    "    print(color)"
   ]
  },
  {
   "cell_type": "code",
   "execution_count": 32,
   "metadata": {},
   "outputs": [
    {
     "name": "stdout",
     "output_type": "stream",
     "text": [
      "#150b05\n",
      "#732603\n",
      "#618402\n",
      "#9a3403\n",
      "#cb4f04\n",
      "#501a02\n",
      "#424d01\n",
      "#2f1702\n"
     ]
    }
   ],
   "source": [
    "for color in hex_palette:\n",
    "    print(color)"
   ]
  }
 ],
 "metadata": {
  "kernelspec": {
   "display_name": "Python 3",
   "language": "python",
   "name": "python3"
  },
  "language_info": {
   "codemirror_mode": {
    "name": "ipython",
    "version": 3
   },
   "file_extension": ".py",
   "mimetype": "text/x-python",
   "name": "python",
   "nbconvert_exporter": "python",
   "pygments_lexer": "ipython3",
   "version": "3.10.8"
  },
  "orig_nbformat": 4
 },
 "nbformat": 4,
 "nbformat_minor": 2
}
