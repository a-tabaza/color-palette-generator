{
 "cells": [
  {
   "cell_type": "code",
   "execution_count": 8,
   "metadata": {},
   "outputs": [],
   "source": [
    "import numpy as np\n",
    "import pandas as pd\n",
    "import requests\n",
    "from PIL import Image\n",
    "from sklearn.cluster import KMeans, MiniBatchKMeans, DBSCAN, AgglomerativeClustering, SpectralClustering, AffinityPropagation, Birch, MeanShift, OPTICS"
   ]
  },
  {
   "cell_type": "code",
   "execution_count": 2,
   "metadata": {},
   "outputs": [],
   "source": [
    "path = r'./Chungking-Express-14.jpg'"
   ]
  },
  {
   "cell_type": "code",
   "execution_count": 3,
   "metadata": {},
   "outputs": [],
   "source": [
    "def online_image_loader(url):\n",
    "    response = requests.get(url, stream=True).raw\n",
    "    try:\n",
    "        image = Image.open(response)\n",
    "    except:\n",
    "        raise Exception('Image not found, try another URL')  \n",
    "    return image"
   ]
  },
  {
   "cell_type": "code",
   "execution_count": 4,
   "metadata": {},
   "outputs": [],
   "source": [
    "def local_image_loader(path):\n",
    "    try:\n",
    "        image = Image.open(path)\n",
    "    except:\n",
    "        raise Exception('Image not found, try another path')\n",
    "    return image"
   ]
  },
  {
   "cell_type": "code",
   "execution_count": 5,
   "metadata": {},
   "outputs": [],
   "source": [
    "def flatten_image(image):\n",
    "    df = pd.DataFrame(list(image.getdata()),columns=list(image.getbands()))\n",
    "    return df"
   ]
  },
  {
   "cell_type": "code",
   "execution_count": 6,
   "metadata": {},
   "outputs": [],
   "source": [
    "url = input('Enter image url: ')\n",
    "img_local = local_image_loader(path)\n",
    "img_online = online_image_loader(url)"
   ]
  },
  {
   "cell_type": "code",
   "execution_count": 7,
   "metadata": {},
   "outputs": [],
   "source": [
    "flat_local = flatten_image(img_local)\n",
    "flat_online = flatten_image(img_online)"
   ]
  },
  {
   "cell_type": "code",
   "execution_count": 9,
   "metadata": {},
   "outputs": [],
   "source": [
    "def cluster(df):\n",
    "    models = []\n",
    "    models.append(('KMeans', KMeans(n_clusters=3)))\n",
    "    models.append(('MiniBatchKMeans', MiniBatchKMeans(n_clusters=3)))\n",
    "    models.append(('DBSCAN', DBSCAN()))\n",
    "    models.append(('AgglomerativeClustering', AgglomerativeClustering(n_clusters=3)))\n",
    "    models.append(('SpectralClustering', SpectralClustering(n_clusters=3)))\n",
    "    models.append(('AffinityPropagation', AffinityPropagation()))\n",
    "    models.append(('Birch', Birch(n_clusters=3)))\n",
    "    models.append(('MeanShift', MeanShift()))\n",
    "    models.append(('OPTICS', OPTICS()))\n",
    "\n",
    "    #KMeans, MiniBatchKMeans, DBSCAN, AgglomerativeClustering, SpectralClustering, AffinityPropagation, Birch, MeanShift, OPTICS\n",
    "\n",
    "    \n",
    "    \n",
    "    return "
   ]
  },
  {
   "cell_type": "code",
   "execution_count": 11,
   "metadata": {},
   "outputs": [],
   "source": [
    "class Clusterer():\n",
    "    def __init__(self, df):\n",
    "        self.df = df\n",
    "        self.models = {}\n",
    "\n",
    "    def KM(self):\n",
    "        self.models['KMeans'] = KMeans(n_clusters=8).fit(self.df)\n",
    "        return self.models['KMeans']\n",
    "    \n",
    "    def MBKM(self):\n",
    "        self.models['MiniBatchKMeans'] = MiniBatchKMeans(n_clusters=8).fit(self.df)\n",
    "        return self.models['MiniBatchKMeans']\n",
    "    \n",
    "    def DB(self):\n",
    "        self.models['DBSCAN'] = DBSCAN().fit(self.df)\n",
    "        return self.models['DBSCAN']\n",
    "    \n",
    "    def AC(self):\n",
    "        self.models['AgglomerativeClustering'] = AgglomerativeClustering(n_clusters=8).fit(self.df)\n",
    "        return self.models['AgglomerativeClustering']\n",
    "    \n",
    "    def SC(self):\n",
    "        self.models['SpectralClustering'] = SpectralClustering(n_clusters=8).fit(self.df)\n",
    "        return self.models['SpectralClustering']\n",
    "    \n",
    "    def AP(self):\n",
    "        self.models['AffinityPropagation'] = AffinityPropagation().fit(self.df)\n",
    "        return self.models['AffinityPropagation']\n",
    "    \n",
    "    def B(self):\n",
    "        self.models['Birch'] = Birch(n_clusters=8).fit(self.df)\n",
    "        return self.models['Birch']\n",
    "    \n",
    "    def MS(self):\n",
    "        self.models['MeanShift'] = MeanShift().fit(self.df)\n",
    "        return self.models['MeanShift']\n",
    "    \n",
    "    def O(self):\n",
    "        self.models['OPTICS'] = OPTICS().fit(self.df)\n",
    "        return self.models['OPTICS']\n",
    "    "
   ]
  }
 ],
 "metadata": {
  "kernelspec": {
   "display_name": "Python 3",
   "language": "python",
   "name": "python3"
  },
  "language_info": {
   "codemirror_mode": {
    "name": "ipython",
    "version": 3
   },
   "file_extension": ".py",
   "mimetype": "text/x-python",
   "name": "python",
   "nbconvert_exporter": "python",
   "pygments_lexer": "ipython3",
   "version": "3.10.8"
  },
  "orig_nbformat": 4
 },
 "nbformat": 4,
 "nbformat_minor": 2
}
