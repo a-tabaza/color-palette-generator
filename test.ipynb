{
 "cells": [
  {
   "cell_type": "code",
   "execution_count": 65,
   "metadata": {},
   "outputs": [],
   "source": [
    "import numpy as np\n",
    "import pandas as pd\n",
    "import requests\n",
    "from PIL import Image\n",
    "import seaborn as sns\n",
    "from sklearn.cluster import KMeans, MiniBatchKMeans, DBSCAN, AgglomerativeClustering, SpectralClustering, AffinityPropagation, Birch, MeanShift, OPTICS"
   ]
  },
  {
   "cell_type": "code",
   "execution_count": 2,
   "metadata": {},
   "outputs": [],
   "source": [
    "path = r'./Chungking-Express-14.jpg'"
   ]
  },
  {
   "cell_type": "code",
   "execution_count": 3,
   "metadata": {},
   "outputs": [],
   "source": [
    "def online_image_loader(url):\n",
    "    response = requests.get(url, stream=True).raw\n",
    "    try:\n",
    "        image = Image.open(response)\n",
    "    except:\n",
    "        raise Exception('Image not found, try another URL')  \n",
    "    return image"
   ]
  },
  {
   "cell_type": "code",
   "execution_count": 4,
   "metadata": {},
   "outputs": [],
   "source": [
    "def local_image_loader(path):\n",
    "    try:\n",
    "        image = Image.open(path)\n",
    "    except:\n",
    "        raise Exception('Image not found, try another path')\n",
    "    return image"
   ]
  },
  {
   "cell_type": "code",
   "execution_count": 5,
   "metadata": {},
   "outputs": [],
   "source": [
    "def flatten_image(image):\n",
    "    df = pd.DataFrame(list(image.getdata()),columns=list(image.getbands()))\n",
    "    return df"
   ]
  },
  {
   "cell_type": "code",
   "execution_count": 6,
   "metadata": {},
   "outputs": [],
   "source": [
    "url = input('Enter image url: ')\n",
    "img_local = local_image_loader(path)\n",
    "img_online = online_image_loader(url)"
   ]
  },
  {
   "cell_type": "code",
   "execution_count": 7,
   "metadata": {},
   "outputs": [],
   "source": [
    "flat_local = flatten_image(img_local)\n",
    "flat_online = flatten_image(img_online)"
   ]
  },
  {
   "cell_type": "code",
   "execution_count": 28,
   "metadata": {},
   "outputs": [],
   "source": [
    "class Clusterer():\n",
    "    def __init__(self, df):\n",
    "        self.df = df\n",
    "        self.models = {}\n",
    "\n",
    "    \"\"\" \n",
    "    KMeans, \n",
    "    MiniBatchKMeans, \n",
    "    DBSCAN, \n",
    "    AgglomerativeClustering, \n",
    "    SpectralClustering,  \n",
    "    Birch, \n",
    "    MeanShift, \n",
    "    OPTICS \n",
    "    \"\"\"\n",
    "\n",
    "    def KM(self):\n",
    "        self.models['KMeans'] = KMeans(n_clusters=8,n_init='auto').fit(self.df)\n",
    "        return self.models['KMeans']\n",
    "    \n",
    "    def MBKM(self):\n",
    "        self.models['MiniBatchKMeans'] = MiniBatchKMeans(n_clusters=8).fit(self.df)\n",
    "        return self.models['MiniBatchKMeans']\n",
    "    \n",
    "    def DB(self):\n",
    "        self.models['DBSCAN'] = DBSCAN().fit(self.df)\n",
    "        return self.models['DBSCAN']\n",
    "    \n",
    "    def AC(self):\n",
    "        self.models['AgglomerativeClustering'] = AgglomerativeClustering(n_clusters=8).fit(self.df)\n",
    "        return self.models['AgglomerativeClustering']\n",
    "    \n",
    "    def SC(self):\n",
    "        self.models['SpectralClustering'] = SpectralClustering(n_clusters=8).fit(self.df)\n",
    "        return self.models['SpectralClustering']\n",
    "    \n",
    "    def B(self):\n",
    "        self.models['Birch'] = Birch(n_clusters=8).fit(self.df)\n",
    "        return self.models['Birch']\n",
    "    \n",
    "    def MS(self):\n",
    "        self.models['MeanShift'] = MeanShift().fit(self.df)\n",
    "        return self.models['MeanShift']\n",
    "    \n",
    "    def O(self):\n",
    "        self.models['OPTICS'] = OPTICS().fit(self.df)\n",
    "        return self.models['OPTICS']\n",
    "    "
   ]
  },
  {
   "cell_type": "code",
   "execution_count": 54,
   "metadata": {},
   "outputs": [],
   "source": [
    "def rgb_to_hex(rgb):\n",
    "    r, g, b = rgb[0], rgb[1], rgb[2]\n",
    "    return '#{:02x}{:02x}{:02x}'.format(r, g, b)"
   ]
  },
  {
   "cell_type": "code",
   "execution_count": 29,
   "metadata": {},
   "outputs": [],
   "source": [
    "kmeans_model = Clusterer(flat_local).KM()"
   ]
  },
  {
   "cell_type": "code",
   "execution_count": 36,
   "metadata": {},
   "outputs": [],
   "source": [
    "def generate_rgb_palette(model):\n",
    "    palette = model.cluster_centers_.round(0).astype(int)\n",
    "    return palette"
   ]
  },
  {
   "cell_type": "code",
   "execution_count": 61,
   "metadata": {},
   "outputs": [],
   "source": [
    "def generate_hex_palette(rgb_palette):\n",
    "    hex_palette = np.apply_along_axis(rgb_to_hex, 1, rgb_palette)\n",
    "    return hex_palette"
   ]
  },
  {
   "cell_type": "code",
   "execution_count": 70,
   "metadata": {},
   "outputs": [
    {
     "data": {
      "text/plain": [
       "array(['#702603', '#150c05', '#953203', '#5c7e02', '#c54603', '#301a02',\n",
       "       '#dcba1a', '#4f1b02'], dtype='<U7')"
      ]
     },
     "execution_count": 70,
     "metadata": {},
     "output_type": "execute_result"
    }
   ],
   "source": [
    "hex_colors = generate_hex_palette(generate_rgb_palette(kmeans_model))\n",
    "hex_colors"
   ]
  },
  {
   "cell_type": "code",
   "execution_count": 69,
   "metadata": {},
   "outputs": [],
   "source": [
    "def hex_to_rgb(hex_value):\n",
    "  h = hex_value.lstrip('#')\n",
    "  return tuple(int(h[i:i + 2], 16) / 255.0 for i in (0, 2, 4))"
   ]
  },
  {
   "cell_type": "code",
   "execution_count": 72,
   "metadata": {},
   "outputs": [],
   "source": [
    "rgb_colors = list(map(hex_to_rgb, hex_colors))"
   ]
  },
  {
   "cell_type": "code",
   "execution_count": 73,
   "metadata": {},
   "outputs": [
    {
     "data": {
      "image/png": "[encoded data removed]",
      "text/plain": [
       "<Figure size 800x100 with 1 Axes>"
      ]
     },
     "metadata": {},
     "output_type": "display_data"
    }
   ],
   "source": [
    "sns.palplot(rgb_colors)"
   ]
  }
 ],
 "metadata": {
  "kernelspec": {
   "display_name": "Python 3",
   "language": "python",
   "name": "python3"
  },
  "language_info": {
   "codemirror_mode": {
    "name": "ipython",
    "version": 3
   },
   "file_extension": ".py",
   "mimetype": "text/x-python",
   "name": "python",
   "nbconvert_exporter": "python",
   "pygments_lexer": "ipython3",
   "version": "3.10.8"
  },
  "orig_nbformat": 4
 },
 "nbformat": 4,
 "nbformat_minor": 2
}
