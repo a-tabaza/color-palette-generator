{
 "cells": [
  {
   "cell_type": "code",
   "execution_count": 1,
   "metadata": {},
   "outputs": [],
   "source": [
    "import numpy as np\n",
    "import pandas as pd\n",
    "import requests\n",
    "from PIL import Image\n",
    "from sklearn.cluster import KMeans, MiniBatchKMeans"
   ]
  },
  {
   "cell_type": "code",
   "execution_count": 2,
   "metadata": {},
   "outputs": [],
   "source": [
    "path = r'./Chungking-Express-14.jpg'"
   ]
  },
  {
   "cell_type": "code",
   "execution_count": 3,
   "metadata": {},
   "outputs": [],
   "source": [
    "def online_image_loader(url):\n",
    "    response = requests.get(url, stream=True).raw\n",
    "    try:\n",
    "        image = Image.open(response)\n",
    "    except:\n",
    "        raise Exception('Image not found, try another URL')  \n",
    "    return image"
   ]
  },
  {
   "cell_type": "code",
   "execution_count": 4,
   "metadata": {},
   "outputs": [],
   "source": [
    "def local_image_loader(path):\n",
    "    try:\n",
    "        image = Image.open(path)\n",
    "    except:\n",
    "        raise Exception('Image not found, try another path')\n",
    "    return image"
   ]
  },
  {
   "cell_type": "code",
   "execution_count": 5,
   "metadata": {},
   "outputs": [],
   "source": [
    "def flatten_image(image):\n",
    "    df = pd.DataFrame(list(image.getdata()),columns=list(image.getbands()))\n",
    "    return df"
   ]
  },
  {
   "cell_type": "code",
   "execution_count": 6,
   "metadata": {},
   "outputs": [],
   "source": [
    "img_local = local_image_loader(path)\n",
    "# url = input('Enter image url: ')\n",
    "# img_online = online_image_loader(url)"
   ]
  },
  {
   "cell_type": "code",
   "execution_count": 7,
   "metadata": {},
   "outputs": [],
   "source": [
    "flat_local = flatten_image(img_local)\n",
    "# flat_online = flatten_image(img_online)"
   ]
  },
  {
   "cell_type": "code",
   "execution_count": 1,
   "metadata": {},
   "outputs": [],
   "source": [
    "class Clusterer():\n",
    "    def __init__(self, df):\n",
    "        self.df = df\n",
    "        self.models = {}\n",
    "\n",
    "    def KM(self):\n",
    "        self.models['KMeans'] = KMeans(n_clusters=8,n_init='auto').fit(self.df)\n",
    "        return self.models['KMeans']\n",
    "    \n",
    "    def MBKM(self):\n",
    "        self.models['MiniBatchKMeans'] = MiniBatchKMeans(n_clusters=8,n_init='auto').fit(self.df)\n",
    "        return self.models['MiniBatchKMeans']"
   ]
  },
  {
   "cell_type": "code",
   "execution_count": 9,
   "metadata": {},
   "outputs": [],
   "source": [
    "def generate_rgb_palette(model):\n",
    "    palette = model.cluster_centers_ / 255\n",
    "    return palette\n",
    "\n",
    "def rgb_to_hex(rgb_value):\n",
    "    r, g, b = rgb_value[0], rgb_value[1], rgb_value[2]\n",
    "    return '#{:02x}{:02x}{:02x}'.format(r, g, b)\n",
    "\n",
    "def generate_hex_palette(model):\n",
    "    palette = model.cluster_centers_.round().astype(int)\n",
    "    palette = [rgb_to_hex(p) for p in palette]\n",
    "    return palette\n",
    "\n",
    "def hex_to_rgb(hex_value):\n",
    "  h = hex_value.lstrip('#')\n",
    "  return tuple(int(h[i:i + 2], 16) / 255.0 for i in (0, 2, 4))"
   ]
  },
  {
   "cell_type": "code",
   "execution_count": 13,
   "metadata": {},
   "outputs": [],
   "source": [
    "model = Clusterer(flat_local).KM()"
   ]
  },
  {
   "cell_type": "code",
   "execution_count": null,
   "metadata": {},
   "outputs": [],
   "source": [
    "rgb_palette = generate_rgb_palette(model)\n",
    "hex_palette = generate_hex_palette(model)"
   ]
  },
  {
   "cell_type": "code",
   "execution_count": null,
   "metadata": {},
   "outputs": [],
   "source": [
    "rgb_palette"
   ]
  },
  {
   "cell_type": "code",
   "execution_count": null,
   "metadata": {},
   "outputs": [],
   "source": [
    "for color in hex_palette:\n",
    "    print(color)"
   ]
  }
 ],
 "metadata": {
  "kernelspec": {
   "display_name": "Python 3",
   "language": "python",
   "name": "python3"
  },
  "language_info": {
   "codemirror_mode": {
    "name": "ipython",
    "version": 3
   },
   "file_extension": ".py",
   "mimetype": "text/x-python",
   "name": "python",
   "nbconvert_exporter": "python",
   "pygments_lexer": "ipython3",
   "version": "3.10.8"
  },
  "orig_nbformat": 4
 },
 "nbformat": 4,
 "nbformat_minor": 2
}
